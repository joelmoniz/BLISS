{
 "cells": [
  {
   "cell_type": "code",
   "execution_count": null,
   "metadata": {},
   "outputs": [],
   "source": [
    "import numpy as np\n",
    "import torch\n",
    "\n",
    "import sys\n",
    "sys.path.append('..')\n",
    "from bliss.data import Language\n",
    "\n",
    "import matplotlib.pyplot as plt\n",
    "%matplotlib inline\n",
    "import gudhi\n",
    "import time\n",
    "DATA_PATH='../muse_data' #Data path to the wiki word vectors."
   ]
  },
  {
   "cell_type": "code",
   "execution_count": null,
   "metadata": {},
   "outputs": [],
   "source": [
    "# Given the embeddings, compute it's distance matrix\n",
    "# Inputs:\n",
    "# embed: N x M numpy array containing the M dimensional embeddings of N most frequent words.\n",
    "# n: The distance matrix is computed for the n most frequent word's embeddings.\n",
    "# Return:\n",
    "# n x n numpy array containing the pairwise euclidean distances between the word embeddings.\n",
    "\n",
    "def distance_matrix(embed, n=5000):\n",
    "    embed = embed[: n]\n",
    "    dist = torch.sqrt(2 - 2 * torch.clamp(torch.mm(embed, torch.t(embed)), -1., 1.))\n",
    "    return dist.cpu().numpy()"
   ]
  },
  {
   "cell_type": "code",
   "execution_count": null,
   "metadata": {},
   "outputs": [],
   "source": [
    "# Given the distance matrix and the homology dimension, calculate the persistence diagram.\n",
    "# Inputs: \n",
    "# x: distance matrix containing the pairwise distances between word embeddings.\n",
    "# homo_dim: homology dimension.\n",
    "# Return:\n",
    "# list of persistence diagrams for dimensions upto homo_dim.\n",
    "\n",
    "def compute_diagram(x, homo_dim=1):\n",
    "    rips_tree = gudhi.RipsComplex(x).create_simplex_tree(max_dimension=homo_dim)\n",
    "    rips_diag = rips_tree.persistence()\n",
    "    return [rips_tree.persistence_intervals_in_dimension(w) for w in range(homo_dim)]"
   ]
  },
  {
   "cell_type": "code",
   "execution_count": null,
   "metadata": {},
   "outputs": [],
   "source": [
    "def compute_distance(x, y, homo_dim=1):\n",
    "    start_time = time.time()\n",
    "    diag_x = compute_diagram(x, homo_dim=homo_dim)\n",
    "    diag_y = compute_diagram(y, homo_dim=homo_dim)\n",
    "    print(\"Filteration graph: %.3f\" % (time.time() - start_time))\n",
    "    return min([gudhi.bottleneck_distance(x, y, e=0) for (x, y) in zip(diag_x, diag_y)])"
   ]
  },
  {
   "cell_type": "code",
   "execution_count": null,
   "metadata": {},
   "outputs": [],
   "source": [
    "langs = ['en', 'es', 'et', 'fi', 'el', 'hu', 'pl', 'tr', 'et']\n",
    "l = {}\n",
    "for i in langs:\n",
    "    l[i] = Language(name=i, gpu=True, mode='rand', mean_center=True, unit_norm=True)\n",
    "    l[i].load('wiki.%s.vec' % i, DATA_PATH)"
   ]
  },
  {
   "cell_type": "code",
   "execution_count": null,
   "metadata": {},
   "outputs": [],
   "source": [
    "d = {}\n",
    "r = [5000, 7000] #Number of points to consider while computing bottleneck distance.\n",
    "n = len(langs)\n",
    "for k in r:\n",
    "    matrices = {}\n",
    "    for i in langs:\n",
    "        matrices[i] = distance_matrix(l[i].embeddings, n=k)\n",
    "    d[k] = matrices"
   ]
  },
  {
   "cell_type": "code",
   "execution_count": null,
   "metadata": {},
   "outputs": [],
   "source": [
    "pairs = {('en', 'es'), ('en', 'et'), ('en', 'fi'), ('en', 'el'), ('en', 'hu'), ('en', 'pl'), ('en', 'tr'), ('et', 'fi')}\n",
    "n = len(langs)\n",
    "for k in r:\n",
    "    for src, tgt in pairs:\n",
    "        print('%s-%s for %d points: %.4f' % (src, tgt, k, compute_distance(d[k][src], d[k][tgt])))"
   ]
  },
  {
   "cell_type": "code",
   "execution_count": null,
   "metadata": {},
   "outputs": [],
   "source": []
  }
 ],
 "metadata": {
  "kernelspec": {
   "display_name": "Python 3",
   "language": "python",
   "name": "python3"
  },
  "language_info": {
   "codemirror_mode": {
    "name": "ipython",
    "version": 3
   },
   "file_extension": ".py",
   "mimetype": "text/x-python",
   "name": "python",
   "nbconvert_exporter": "python",
   "pygments_lexer": "ipython3",
   "version": "3.6.6"
  }
 },
 "nbformat": 4,
 "nbformat_minor": 2
}
